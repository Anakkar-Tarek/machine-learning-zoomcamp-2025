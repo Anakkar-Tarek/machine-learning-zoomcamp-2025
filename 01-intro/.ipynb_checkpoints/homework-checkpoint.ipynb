{
  "nbformat": 4,
  "nbformat_minor": 0,
  "metadata": {
    "colab": {
      "provenance": []
    },
    "kernelspec": {
      "name": "python3",
      "display_name": "Python 3"
    },
    "language_info": {
      "name": "python"
    }
  },
  "cells": [
    {
      "cell_type": "markdown",
      "source": [
        "# Introduction to Machine Learning for Machine Learning Zoomcamp 2025"
      ],
      "metadata": {
        "id": "gO-eJr6Mrrnq"
      }
    },
    {
      "cell_type": "markdown",
      "source": [
        "## Import libraries\n"
      ],
      "metadata": {
        "id": "3Y_9m1g3r7G-"
      }
    },
    {
      "cell_type": "code",
      "execution_count": 12,
      "metadata": {
        "id": "Za8442PVilLQ"
      },
      "outputs": [],
      "source": [
        "import numpy as np\n",
        "import pandas as pd\n",
        "import matplotlib.pyplot as plt\n",
        "import seaborn as sns"
      ]
    },
    {
      "cell_type": "markdown",
      "source": [
        "## Q1. Pandas version\n"
      ],
      "metadata": {
        "id": "cfVxdotXsEeD"
      }
    },
    {
      "cell_type": "code",
      "source": [
        "print(\"Pandas version:\", pd.__version__)"
      ],
      "metadata": {
        "colab": {
          "base_uri": "https://localhost:8080/"
        },
        "id": "ISdibCnFsCRi",
        "outputId": "1f5b6b32-8351-4d0f-f864-fe7ee51a4826"
      },
      "execution_count": 13,
      "outputs": [
        {
          "output_type": "stream",
          "name": "stdout",
          "text": [
            "Pandas version: 2.2.2\n"
          ]
        }
      ]
    },
    {
      "cell_type": "markdown",
      "source": [
        "## Q2. Load dataset"
      ],
      "metadata": {
        "id": "Z_KN5uICsUFS"
      }
    },
    {
      "cell_type": "code",
      "source": [
        "url = \"https://raw.githubusercontent.com/alexeygrigorev/datasets/master/car_fuel_efficiency.csv\"\n",
        "df = pd.read_csv(url)\n",
        "\n",
        "# Show first few rows\n",
        "df.head()\n",
        "\n",
        "# Count records\n",
        "print(\"Number of records:\", len(df))\n"
      ],
      "metadata": {
        "colab": {
          "base_uri": "https://localhost:8080/"
        },
        "id": "KJlHPhH-iz1I",
        "outputId": "dba1480a-50e2-4562-8e2a-5d86dfb11f83"
      },
      "execution_count": 14,
      "outputs": [
        {
          "output_type": "stream",
          "name": "stdout",
          "text": [
            "Number of records: 9704\n"
          ]
        }
      ]
    },
    {
      "cell_type": "markdown",
      "source": [
        "## Q3. Fuel types\n"
      ],
      "metadata": {
        "id": "7BdR4IfhsaOE"
      }
    },
    {
      "cell_type": "code",
      "source": [
        "print(\"Unique fuel types:\", df['fuel_type'].unique())\n",
        "print(\"Number of fuel types:\", df['fuel_type'].nunique())"
      ],
      "metadata": {
        "colab": {
          "base_uri": "https://localhost:8080/"
        },
        "id": "KCVDQfAmi4xn",
        "outputId": "e2e9530f-a9d4-4f63-d27d-9207443f29d7"
      },
      "execution_count": 15,
      "outputs": [
        {
          "output_type": "stream",
          "name": "stdout",
          "text": [
            "Unique fuel types: ['Gasoline' 'Diesel']\n",
            "Number of fuel types: 2\n"
          ]
        }
      ]
    },
    {
      "cell_type": "markdown",
      "source": [
        "## Q4. Missing values"
      ],
      "metadata": {
        "id": "29W_3aLIsgUh"
      }
    },
    {
      "cell_type": "code",
      "source": [
        "missing = df.isnull().sum()\n",
        "print(\"Missing values per column:\\n\", missing)\n",
        "print(\"Columns with missing values:\", (missing > 0).sum())"
      ],
      "metadata": {
        "colab": {
          "base_uri": "https://localhost:8080/"
        },
        "id": "frl7PuNMi5UU",
        "outputId": "c86b6748-0b0f-449c-c91e-1252e0c8e7b0"
      },
      "execution_count": 16,
      "outputs": [
        {
          "output_type": "stream",
          "name": "stdout",
          "text": [
            "Missing values per column:\n",
            " engine_displacement      0\n",
            "num_cylinders          482\n",
            "horsepower             708\n",
            "vehicle_weight           0\n",
            "acceleration           930\n",
            "model_year               0\n",
            "origin                   0\n",
            "fuel_type                0\n",
            "drivetrain               0\n",
            "num_doors              502\n",
            "fuel_efficiency_mpg      0\n",
            "dtype: int64\n",
            "Columns with missing values: 4\n"
          ]
        }
      ]
    },
    {
      "cell_type": "markdown",
      "source": [
        "## Q5. Max fuel efficiency for Asia"
      ],
      "metadata": {
        "id": "TtobyOVzsjHf"
      }
    },
    {
      "cell_type": "code",
      "source": [
        "asia = df[df['origin'] == 'Asia']\n",
        "print(\"Max fuel efficiency (Asia):\", asia['fuel_efficiency_mpg'].max())"
      ],
      "metadata": {
        "colab": {
          "base_uri": "https://localhost:8080/"
        },
        "id": "2Z8TGnkMi5uW",
        "outputId": "a31bd337-2888-4f73-c18c-cd1d100a099f"
      },
      "execution_count": 18,
      "outputs": [
        {
          "output_type": "stream",
          "name": "stdout",
          "text": [
            "Max fuel efficiency (Asia): 23.759122836520497\n"
          ]
        }
      ]
    },
    {
      "cell_type": "markdown",
      "source": [
        "## Q6. Horsepower median before and after fillna"
      ],
      "metadata": {
        "id": "PXkswsDqsmyZ"
      }
    },
    {
      "cell_type": "code",
      "source": [
        "median_before = df['horsepower'].median()\n",
        "print(\"Median horsepower before fillna:\", median_before)\n",
        "\n",
        "# Most frequent (mode) value\n",
        "mode_value = df['horsepower'].mode()[0]\n",
        "print(\"Most frequent horsepower:\", mode_value)\n",
        "\n",
        "# Fill missing values\n",
        "df['horsepower'] = df['horsepower'].fillna(mode_value)\n",
        "\n",
        "# Median after filling\n",
        "median_after = df['horsepower'].median()\n",
        "print(\"Median horsepower after fillna:\", median_after)\n",
        "\n",
        "if median_after > median_before:\n",
        "    print(\"Yes, it increased\")\n",
        "elif median_after < median_before:\n",
        "    print(\"Yes, it decreased\")\n",
        "else:\n",
        "    print(\"No\")"
      ],
      "metadata": {
        "colab": {
          "base_uri": "https://localhost:8080/"
        },
        "id": "EbEI84RTi6z_",
        "outputId": "d17dde34-bf47-4df4-f198-88d9af9e047a"
      },
      "execution_count": 19,
      "outputs": [
        {
          "output_type": "stream",
          "name": "stdout",
          "text": [
            "Median horsepower before fillna: 149.0\n",
            "Most frequent horsepower: 152.0\n",
            "Median horsepower after fillna: 152.0\n",
            "Yes, it increased\n"
          ]
        }
      ]
    },
    {
      "cell_type": "markdown",
      "source": [
        "## Q7. Sum of weights (Linear regression calculation)\n"
      ],
      "metadata": {
        "id": "fKkVjiKVstMC"
      }
    },
    {
      "cell_type": "code",
      "source": [
        "asia = df[df['origin'] == 'Asia'][['vehicle_weight', 'model_year']]\n",
        "\n",
        "# First 7 values\n",
        "X = asia.head(7).values\n",
        "print(\"X:\\n\", X)\n",
        "\n",
        "# XTX = X^T * X\n",
        "XTX = X.T.dot(X)\n",
        "\n",
        "# Inverse\n",
        "XTX_inv = np.linalg.inv(XTX)\n",
        "\n",
        "# y values\n",
        "y = np.array([1100, 1300, 800, 900, 1000, 1100, 1200])\n",
        "\n",
        "# w = (XTX^-1 * X^T * y)\n",
        "w = XTX_inv.dot(X.T).dot(y)\n",
        "\n",
        "print(\"w:\", w)\n",
        "print(\"Sum of elements in w:\", w.sum())"
      ],
      "metadata": {
        "colab": {
          "base_uri": "https://localhost:8080/"
        },
        "id": "rYb6VoM7i7S5",
        "outputId": "46fed59c-87d4-4ccf-bc2d-ba30e9121d12"
      },
      "execution_count": 20,
      "outputs": [
        {
          "output_type": "stream",
          "name": "stdout",
          "text": [
            "X:\n",
            " [[2714.21930965 2016.        ]\n",
            " [2783.86897424 2010.        ]\n",
            " [3582.68736772 2007.        ]\n",
            " [2231.8081416  2011.        ]\n",
            " [2659.43145076 2016.        ]\n",
            " [2844.22753389 2014.        ]\n",
            " [3761.99403819 2019.        ]]\n",
            "w: [0.01386421 0.5049067 ]\n",
            "Sum of elements in w: 0.5187709081074016\n"
          ]
        }
      ]
    }
  ]
}